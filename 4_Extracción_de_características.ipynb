{
  "nbformat": 4,
  "nbformat_minor": 0,
  "metadata": {
    "colab": {
      "provenance": [],
      "authorship_tag": "ABX9TyPy+Jg0+N2+0JxEU4lXMzVt",
      "include_colab_link": true
    },
    "kernelspec": {
      "name": "python3",
      "display_name": "Python 3"
    },
    "language_info": {
      "name": "python"
    }
  },
  "cells": [
    {
      "cell_type": "markdown",
      "metadata": {
        "id": "view-in-github",
        "colab_type": "text"
      },
      "source": [
        "<a href=\"https://colab.research.google.com/github/MiguelJimenezCruz/4_Extracci-n_de_caracter-sticas/blob/main/4_Extracci%C3%B3n_de_caracter%C3%ADsticas.ipynb\" target=\"_parent\"><img src=\"https://colab.research.google.com/assets/colab-badge.svg\" alt=\"Open In Colab\"/></a>"
      ]
    },
    {
      "cell_type": "code",
      "execution_count": null,
      "metadata": {
        "id": "iaglpxlhf1Kb"
      },
      "outputs": [],
      "source": [
        "#Instalamos librería para análisis de variables categóricas\n",
        "%pip install funpymodeling"
      ]
    },
    {
      "cell_type": "code",
      "source": [
        "#Importamos las librerias pandas, numpy y matplotlib respectivamente\n",
        "import pandas as pd\n",
        "import numpy as np\n",
        "import matplotlib.pyplot as plt\n",
        "from funpymodeling.exploratory import freq_tbl"
      ],
      "metadata": {
        "id": "2Rv9R4GbgYWT"
      },
      "execution_count": 5,
      "outputs": []
    },
    {
      "cell_type": "code",
      "source": [
        "#Cargar archivo csv desde equipo\n",
        "from google.colab import files\n",
        "files.upload()"
      ],
      "metadata": {
        "id": "AvGKd0O8g_vD"
      },
      "execution_count": null,
      "outputs": []
    },
    {
      "cell_type": "code",
      "source": [
        "#Carga desde un archivo .xlsx sin indice\n",
        "Micro_Retailer1= pd.read_excel('microretailer_mit_lift_lab.xlsx')\n",
        "pd.options.display.max_columns = None\n",
        "Micro_Retailer1.head(2)"
      ],
      "metadata": {
        "id": "Dz8woGGlhR9k"
      },
      "execution_count": null,
      "outputs": []
    },
    {
      "cell_type": "code",
      "source": [
        "#Verificamos información del DataFrame\n",
        "Micro_Retailer1.info()"
      ],
      "metadata": {
        "id": "66yfS-mLhUZh"
      },
      "execution_count": null,
      "outputs": []
    },
    {
      "cell_type": "code",
      "source": [
        "#Obtengo un análisis univariado de las variables categóricas\n",
        "freq_tbl(Micro_Retailer1)"
      ],
      "metadata": {
        "id": "De1H0navhcII"
      },
      "execution_count": null,
      "outputs": []
    },
    {
      "cell_type": "code",
      "source": [
        "#Filtro para obtener variables cuantitativas, tambien aqui descartamos la columna 0 porque no tiene nada 9,10,11,15,16,17,18,19,23,24,25,31,32,35,36,37,41,44,45\n",
        "Micro_Retailer=Micro_Retailer1.iloc[ : , [1,3,9,10,11,16,18,19,23,24,26,27,35,36,47,55,83,84,85,86]]\n",
        "Micro_Retailer"
      ],
      "metadata": {
        "id": "QqdQUhaX0Qru"
      },
      "execution_count": null,
      "outputs": []
    },
    {
      "cell_type": "code",
      "source": [
        "#Identificar valores nulos por columna\n",
        "valores_nulos=Micro_Retailer.isnull().sum()\n",
        "valores_nulos"
      ],
      "metadata": {
        "id": "rzD6QZ-KOS_v"
      },
      "execution_count": null,
      "outputs": []
    },
    {
      "cell_type": "code",
      "source": [
        "Micro_Retailer.info()"
      ],
      "metadata": {
        "id": "jQ-pqJRgnoB0"
      },
      "execution_count": null,
      "outputs": []
    },
    {
      "cell_type": "code",
      "source": [
        "Micro_Retailer[\"5_change_store_space_last_year\"] =Micro_Retailer[\"5_change_store_space_last_year\"].fillna(method=\"ffill\")\n",
        "Micro_Retailer[\"49_inventory_records\"] =Micro_Retailer[\"49_inventory_records\"].fillna(method=\"ffill\")\n",
        "Micro_Retailer[\"18_sales_records\"] =Micro_Retailer[\"18_sales_records\"].fillna(method=\"bfill\")\n",
        "Micro_Retailer[\"210_sales_channels\"] =Micro_Retailer[\"210_sales_channels\"].fillna(method=\"ffill\")\n",
        "Micro_Retailer[\"189_payment_methods\"] =Micro_Retailer[\"189_payment_methods\"].fillna(method=\"bfill\")\n",
        "Micro_Retailer[\"214_customer_relationship_tools\"] =Micro_Retailer[\"214_customer_relationship_tools\"].fillna(method=\"ffill\")\n",
        "Micro_Retailer[\"60_services\"] =Micro_Retailer[\"60_services\"].fillna(method=\"ffill\")\n",
        "Micro_Retailer[\"277_payment_method_suppliers\"] =Micro_Retailer[\"277_payment_method_suppliers\"].fillna(method=\"bfill\")\n",
        "Micro_Retailer[\"56_procurement_changes_pandemic\"] =Micro_Retailer[\"56_procurement_changes_pandemic\"].fillna(method=\"ffill\")\n",
        "Micro_Retailer[\"279_changes_procurement_pandemic\"] =Micro_Retailer[\"279_changes_procurement_pandemic\"].fillna(method=\"ffill\")\n",
        "Micro_Retailer[\"157_frequency_organize_shelves\"] =Micro_Retailer[\"157_frequency_organize_shelves\"].fillna(method=\"ffill\")"
      ],
      "metadata": {
        "id": "zv9oylp6OjDn"
      },
      "execution_count": null,
      "outputs": []
    },
    {
      "cell_type": "code",
      "source": [
        "Micro_Retailer[\"5_change_store_space_last_year\"] =Micro_Retailer[\"5_change_store_space_last_year\"].fillna(method=\"bfill\")\n",
        "Micro_Retailer[\"49_inventory_records\"] =Micro_Retailer[\"49_inventory_records\"].fillna(method=\"bfill\")\n",
        "Micro_Retailer[\"18_sales_records\"] =Micro_Retailer[\"18_sales_records\"].fillna(method=\"ffill\")\n",
        "Micro_Retailer[\"210_sales_channels\"] =Micro_Retailer[\"210_sales_channels\"].fillna(method=\"bfill\")\n",
        "Micro_Retailer[\"189_payment_methods\"] =Micro_Retailer[\"189_payment_methods\"].fillna(method=\"ffill\")\n",
        "Micro_Retailer[\"214_customer_relationship_tools\"] =Micro_Retailer[\"214_customer_relationship_tools\"].fillna(method=\"bfill\")\n",
        "Micro_Retailer[\"60_services\"] =Micro_Retailer[\"60_services\"].fillna(method=\"bfill\")\n",
        "Micro_Retailer[\"277_payment_method_suppliers\"] =Micro_Retailer[\"277_payment_method_suppliers\"].fillna(method=\"ffill\")\n",
        "Micro_Retailer[\"56_procurement_changes_pandemic\"] =Micro_Retailer[\"56_procurement_changes_pandemic\"].fillna(method=\"bfill\")\n",
        "Micro_Retailer[\"279_changes_procurement_pandemic\"] =Micro_Retailer[\"279_changes_procurement_pandemic\"].fillna(method=\"bfill\")\n",
        "Micro_Retailer[\"157_frequency_organize_shelves\"] =Micro_Retailer[\"157_frequency_organize_shelves\"].fillna(method=\"bfill\")"
      ],
      "metadata": {
        "id": "lpc8Q_41qqx4"
      },
      "execution_count": null,
      "outputs": []
    },
    {
      "cell_type": "code",
      "source": [
        "#Identificar valores nulos por columna\n",
        "valores_nulos=Micro_Retailer.isnull().sum()\n",
        "valores_nulos"
      ],
      "metadata": {
        "id": "a95y0p6kTevP"
      },
      "execution_count": null,
      "outputs": []
    },
    {
      "cell_type": "code",
      "source": [
        "Micro_Retailer.info()"
      ],
      "metadata": {
        "id": "_jV3pWuPkQHV"
      },
      "execution_count": null,
      "outputs": []
    },
    {
      "cell_type": "code",
      "source": [
        "Micro_Retailer.head(2)"
      ],
      "metadata": {
        "id": "4tX2AdOiejUv"
      },
      "execution_count": null,
      "outputs": []
    },
    {
      "cell_type": "markdown",
      "source": [
        "**Variable 1**"
      ],
      "metadata": {
        "id": "-hVRuWvLTxfD"
      }
    },
    {
      "cell_type": "code",
      "source": [
        "#Obtengo un análisis univariado de una variable categórica en específico\n",
        "table= freq_tbl(Micro_Retailer['_title'])\n",
        "table"
      ],
      "metadata": {
        "id": "N_1zdPx8TxL_"
      },
      "execution_count": null,
      "outputs": []
    },
    {
      "cell_type": "code",
      "source": [
        "#Obtengo un filtro de los valores más reelevantes de la variables categórica seleccionada\n",
        "Filtro= table[table['frequency']>1]\n",
        "Filtro"
      ],
      "metadata": {
        "id": "FbKiQCrCT8uN"
      },
      "execution_count": null,
      "outputs": []
    },
    {
      "cell_type": "code",
      "source": [
        "#Ajusto el indice de mi dataframe\n",
        "Filtro_index= Filtro.set_index('_title')\n",
        "Filtro_index"
      ],
      "metadata": {
        "id": "dZT4X858UBt2"
      },
      "execution_count": null,
      "outputs": []
    },
    {
      "cell_type": "code",
      "source": [
        "#Realizamos grafico de pastel del dataframe filtrado\n",
        "Filtro_index[\"frequency\"].plot(kind='pie', figsize=(10,5), shadow=True, autopct=\"%0.1f %%\")"
      ],
      "metadata": {
        "id": "YDiJvNeIUFSm"
      },
      "execution_count": null,
      "outputs": []
    },
    {
      "cell_type": "markdown",
      "source": [
        "**Variable 2**"
      ],
      "metadata": {
        "id": "2MTD69jLVKiE"
      }
    },
    {
      "cell_type": "code",
      "source": [
        "#Obtengo un análisis univariado de una variable categórica en específico\n",
        "table1= freq_tbl(Micro_Retailer['_updated_by'])\n",
        "table1"
      ],
      "metadata": {
        "id": "WEoLf0jSVOWC"
      },
      "execution_count": null,
      "outputs": []
    },
    {
      "cell_type": "code",
      "source": [
        "#Obtengo un filtro de los valores más reelevantes de la variables categórica seleccionada\n",
        "Filtro1= table1[table1['frequency']>1]\n",
        "Filtro1"
      ],
      "metadata": {
        "id": "qGkg_UUWWwWY"
      },
      "execution_count": null,
      "outputs": []
    },
    {
      "cell_type": "code",
      "source": [
        "#Ajusto el indice de mi dataframe\n",
        "Filtro_index1= Filtro1.set_index('_updated_by')\n",
        "Filtro_index1"
      ],
      "metadata": {
        "id": "Tb46tWfDW_tS"
      },
      "execution_count": null,
      "outputs": []
    },
    {
      "cell_type": "code",
      "source": [
        "#Realizamos grafico de área del dataframe filtrado\n",
        "Filtro_index1.plot(kind='area', figsize=(10,4),alpha = 0.5)"
      ],
      "metadata": {
        "id": "lNvRPOXWYVwQ"
      },
      "execution_count": null,
      "outputs": []
    },
    {
      "cell_type": "markdown",
      "source": [
        "**Variable 3**"
      ],
      "metadata": {
        "id": "F3TJTU0YY5nS"
      }
    },
    {
      "cell_type": "code",
      "source": [
        "#Obtengo un análisis univariado de una variable categórica en específico\n",
        "table2= freq_tbl(Micro_Retailer['232_type_of_store'])\n",
        "#Obtengo un filtro de los valores más reelevantes de la variables categórica seleccionada\n",
        "Filtro2= table2[table2['frequency']>1]\n",
        "#Ajusto el indice de mi dataframe\n",
        "Filtro_index2= Filtro2.set_index('232_type_of_store')\n",
        "Filtro_index2"
      ],
      "metadata": {
        "id": "RNE4Bwy1Y9Dh"
      },
      "execution_count": null,
      "outputs": []
    },
    {
      "cell_type": "code",
      "source": [
        "#Realizamos grafico de pastel del dataframe filtrado\n",
        "Filtro_index2[\"frequency\"].plot(kind='pie', figsize=(10,5), shadow=True, autopct=\"%0.1f %%\")"
      ],
      "metadata": {
        "id": "kd4iuVCGZjpy"
      },
      "execution_count": null,
      "outputs": []
    },
    {
      "cell_type": "markdown",
      "source": [
        "**Variable 4**"
      ],
      "metadata": {
        "id": "JY1GD0i1azq8"
      }
    },
    {
      "cell_type": "code",
      "source": [
        "#Obtengo un análisis univariado de una variable categórica en específico\n",
        "table3= freq_tbl(Micro_Retailer['108_does_the_micro_retailer_has_a_barred_window_'])\n",
        "#Obtengo un filtro de los valores más reelevantes de la variables categórica seleccionada\n",
        "Filtro3= table3[table3['frequency']>1]\n",
        "#Ajusto el indice de mi dataframe\n",
        "Filtro_index3= Filtro3.set_index('108_does_the_micro_retailer_has_a_barred_window_')\n",
        "Filtro_index3"
      ],
      "metadata": {
        "id": "vJXUgpYZa1ib"
      },
      "execution_count": null,
      "outputs": []
    },
    {
      "cell_type": "code",
      "source": [
        "#Realizamos grafico de pastel del dataframe filtrado\n",
        "Filtro_index3[\"frequency\"].plot(kind='pie', figsize=(10,5), shadow=True, autopct=\"%0.1f %%\")"
      ],
      "metadata": {
        "id": "lCp8vcn9bgtY"
      },
      "execution_count": null,
      "outputs": []
    },
    {
      "cell_type": "markdown",
      "source": [
        "**Variable 5**"
      ],
      "metadata": {
        "id": "twyJhqhMbzfz"
      }
    },
    {
      "cell_type": "code",
      "source": [
        "#Obtengo un análisis univariado de una variable categórica en específico\n",
        "table4= freq_tbl(Micro_Retailer['99_does_the_micro_retailer_exhibits_products_outside_'])\n",
        "#Obtengo un filtro de los valores más reelevantes de la variables categórica seleccionada\n",
        "Filtro4= table4[table4['frequency']>1]\n",
        "#Ajusto el indice de mi dataframe\n",
        "Filtro_index4= Filtro4.set_index('99_does_the_micro_retailer_exhibits_products_outside_')\n",
        "Filtro_index4"
      ],
      "metadata": {
        "id": "bnt1z0Y-b2wR"
      },
      "execution_count": null,
      "outputs": []
    },
    {
      "cell_type": "code",
      "source": [
        "#Realizamos grafico de pastel del dataframe filtrado\n",
        "Filtro_index4[\"frequency\"].plot(kind='pie', figsize=(10,5), shadow=True, autopct=\"%0.1f %%\")"
      ],
      "metadata": {
        "id": "X78zCzNlcNGa"
      },
      "execution_count": null,
      "outputs": []
    },
    {
      "cell_type": "markdown",
      "source": [
        "**Variable 6**"
      ],
      "metadata": {
        "id": "P6Z7pT7qc1iN"
      }
    },
    {
      "cell_type": "code",
      "source": [
        "#Obtengo un análisis univariado de una variable categórica en específico\n",
        "table5= freq_tbl(Micro_Retailer['104_how_many_shelves_does_the_micro_retailer_have'])\n",
        "#Obtengo un filtro de los valores más reelevantes de la variables categórica seleccionada\n",
        "Filtro5= table5[table5['frequency']>1]\n",
        "#Ajusto el indice de mi dataframe\n",
        "Filtro_index5= Filtro5.set_index('104_how_many_shelves_does_the_micro_retailer_have')\n",
        "Filtro_index5"
      ],
      "metadata": {
        "id": "AM_aWqorhUrL"
      },
      "execution_count": null,
      "outputs": []
    },
    {
      "cell_type": "code",
      "source": [
        "#Realizamos grafico de pastel del dataframe filtrado\n",
        "Filtro_index5[\"frequency\"].plot(kind='pie', figsize=(10,5), shadow=True, autopct=\"%0.1f %%\")"
      ],
      "metadata": {
        "id": "dMqnlaR8hbhi"
      },
      "execution_count": null,
      "outputs": []
    },
    {
      "cell_type": "markdown",
      "source": [
        "**Variable 7**"
      ],
      "metadata": {
        "id": "Yoi8kSQ1c7CA"
      }
    },
    {
      "cell_type": "code",
      "source": [
        "table6 = freq_tbl(Micro_Retailer['hola_somos_estudiantes_del_tec_de_monterrey_estamos_realiz'])\n",
        "Filtro6 = table6[table6['frequency'] > 1]\n",
        "Filtro_index6 = Filtro6.set_index('hola_somos_estudiantes_del_tec_de_monterrey_estamos_realiz')\n",
        "Filtro_index6"
      ],
      "metadata": {
        "id": "3hHul94misBX"
      },
      "execution_count": null,
      "outputs": []
    },
    {
      "cell_type": "code",
      "source": [
        "Filtro_index6[\"frequency\"].plot(kind='pie', figsize=(10,5), shadow=True, autopct=\"%0.1f %%\")"
      ],
      "metadata": {
        "id": "CUq-RdAskeBS"
      },
      "execution_count": null,
      "outputs": []
    },
    {
      "cell_type": "markdown",
      "source": [
        "**Variable 8**"
      ],
      "metadata": {
        "id": "kLymjh1Xc8v7"
      }
    },
    {
      "cell_type": "code",
      "source": [
        "table7 = freq_tbl(Micro_Retailer['le_comento_que_toda_esta_informacin_es_confidencial'])\n",
        "Filtro7 = table7[table7['frequency'] > 1]\n",
        "Filtro_index7 = Filtro7.set_index('le_comento_que_toda_esta_informacin_es_confidencial')\n",
        "Filtro_index7"
      ],
      "metadata": {
        "id": "vH6rPLUljdM2"
      },
      "execution_count": null,
      "outputs": []
    },
    {
      "cell_type": "code",
      "source": [
        "Filtro_index7[\"frequency\"].plot(kind='pie', figsize=(10,5), shadow=True, autopct=\"%0.1f %%\")"
      ],
      "metadata": {
        "id": "3pwCekdskeY-"
      },
      "execution_count": null,
      "outputs": []
    },
    {
      "cell_type": "markdown",
      "source": [
        "**Variable 9**"
      ],
      "metadata": {
        "id": "FMWyltOVc-ER"
      }
    },
    {
      "cell_type": "code",
      "source": [
        "table8 = freq_tbl(Micro_Retailer['5_change_store_space_last_year'])\n",
        "Filtro8 = table8[table8['frequency'] > 1]\n",
        "Filtro_index8 = Filtro8.set_index('5_change_store_space_last_year')\n",
        "Filtro_index8"
      ],
      "metadata": {
        "id": "ueCTTmNMjfoy"
      },
      "execution_count": null,
      "outputs": []
    },
    {
      "cell_type": "code",
      "source": [
        "Filtro_index8[\"frequency\"].plot(kind='pie', figsize=(10,5), shadow=True, autopct=\"%0.1f %%\")"
      ],
      "metadata": {
        "id": "xDu9up_0kewz",
        "colab": {
          "base_uri": "https://localhost:8080/",
          "height": 439
        },
        "outputId": "a05ab0a0-5289-4bd8-879b-a8871179e855"
      },
      "execution_count": 39,
      "outputs": [
        {
          "output_type": "execute_result",
          "data": {
            "text/plain": [
              "<Axes: ylabel='frequency'>"
            ]
          },
          "metadata": {},
          "execution_count": 39
        },
        {
          "output_type": "display_data",
          "data": {
            "text/plain": [
              "<Figure size 1000x500 with 1 Axes>"
            ],
            "image/png": "[encoded data removed]"
          },
          "metadata": {}
        }
      ]
    },
    {
      "cell_type": "markdown",
      "source": [
        "**Variable 10**"
      ],
      "metadata": {
        "id": "r6bPN-fyc_dQ"
      }
    },
    {
      "cell_type": "code",
      "source": [
        "Micro_Retailer.info()"
      ],
      "metadata": {
        "id": "y6cnIJMqrF5V"
      },
      "execution_count": null,
      "outputs": []
    },
    {
      "cell_type": "code",
      "source": [
        "table9 = freq_tbl(Micro_Retailer['6_change_employees_average_salary_last_year'])\n",
        "Filtro9 = table9[table9['frequency'] > 1]\n",
        "Filtro_index9 = Filtro9.set_index('6_change_employees_average_salary_last_year')\n",
        "Filtro_index9"
      ],
      "metadata": {
        "id": "9Uw5m3QUjpox"
      },
      "execution_count": null,
      "outputs": []
    },
    {
      "cell_type": "code",
      "source": [
        "Filtro_index9[\"frequency\"].plot(kind='pie', figsize=(10,5), shadow=True, autopct=\"%0.1f %%\")"
      ],
      "metadata": {
        "id": "TctZqRE5kfCs"
      },
      "execution_count": null,
      "outputs": []
    },
    {
      "cell_type": "markdown",
      "source": [
        "**Variable 11**"
      ],
      "metadata": {
        "id": "xVsaSXY1dBKY"
      }
    },
    {
      "cell_type": "code",
      "source": [
        "table10 = freq_tbl(Micro_Retailer['49_inventory_records'])\n",
        "Filtro10 = table10[table10['frequency'] > 1]\n",
        "Filtro_index10 = Filtro10.set_index('49_inventory_records')\n",
        "Filtro_index10"
      ],
      "metadata": {
        "id": "8r5nuhXTjp_Q"
      },
      "execution_count": null,
      "outputs": []
    },
    {
      "cell_type": "code",
      "source": [
        "Filtro_index10[\"frequency\"].plot(kind='pie', figsize=(10,5), shadow=True, autopct=\"%0.1f %%\")"
      ],
      "metadata": {
        "id": "2qeFmzTEkfVF"
      },
      "execution_count": null,
      "outputs": []
    },
    {
      "cell_type": "markdown",
      "source": [
        "**Variable 12**"
      ],
      "metadata": {
        "id": "nbLUAENMdC8z"
      }
    },
    {
      "cell_type": "code",
      "source": [
        "table11 = freq_tbl(Micro_Retailer['18_sales_records'])\n",
        "Filtro11 = table11[table11['frequency'] > 1]\n",
        "Filtro_index11 = Filtro11.set_index('18_sales_records')\n",
        "Filtro_index11"
      ],
      "metadata": {
        "id": "kFaGb39rjqbs"
      },
      "execution_count": null,
      "outputs": []
    },
    {
      "cell_type": "code",
      "source": [
        "Filtro_index11[\"frequency\"].plot(kind='pie', figsize=(10,5), shadow=True, autopct=\"%0.1f %%\")"
      ],
      "metadata": {
        "id": "mquf8cRKkfm8"
      },
      "execution_count": null,
      "outputs": []
    },
    {
      "cell_type": "markdown",
      "source": [
        "**Variable 13**"
      ],
      "metadata": {
        "id": "FMCYMK7ZdD3F"
      }
    },
    {
      "cell_type": "code",
      "source": [
        "table12 = freq_tbl(Micro_Retailer['210_sales_channels'])\n",
        "Filtro12 = table12[table12['frequency'] > 1]\n",
        "Filtro_index12 = Filtro12.set_index('210_sales_channels')\n",
        "Filtro_index12"
      ],
      "metadata": {
        "id": "JCvkQWLMjrIQ"
      },
      "execution_count": null,
      "outputs": []
    },
    {
      "cell_type": "code",
      "source": [
        "Filtro_index12[\"frequency\"].plot(kind='pie', figsize=(10,5), shadow=True, autopct=\"%0.1f %%\")"
      ],
      "metadata": {
        "id": "J1VGMTTrkf1m"
      },
      "execution_count": null,
      "outputs": []
    },
    {
      "cell_type": "markdown",
      "source": [
        "**Variable 14**"
      ],
      "metadata": {
        "id": "oCYOSJLwdE0f"
      }
    },
    {
      "cell_type": "code",
      "source": [
        "table13 = freq_tbl(Micro_Retailer['189_payment_methods'])\n",
        "Filtro13 = table13[table13['frequency'] > 1]\n",
        "Filtro_index13 = Filtro13.set_index('189_payment_methods')\n",
        "Filtro_index13"
      ],
      "metadata": {
        "id": "3BtBa-hXjrkC"
      },
      "execution_count": null,
      "outputs": []
    },
    {
      "cell_type": "code",
      "source": [
        "Filtro_index13[\"frequency\"].plot(kind='pie', figsize=(10,5), shadow=True, autopct=\"%0.1f %%\")"
      ],
      "metadata": {
        "id": "fFnwkoZhkgRQ"
      },
      "execution_count": null,
      "outputs": []
    },
    {
      "cell_type": "markdown",
      "source": [
        "**Variable 15**"
      ],
      "metadata": {
        "id": "10yJm89hdGMb"
      }
    },
    {
      "cell_type": "code",
      "source": [
        "table14 = freq_tbl(Micro_Retailer['214_customer_relationship_tools'])\n",
        "Filtro14 = table14[table14['frequency'] > 1]\n",
        "Filtro_index14 = Filtro14.set_index('214_customer_relationship_tools')\n",
        "Filtro_index14"
      ],
      "metadata": {
        "id": "1J_d6WSrjsGM"
      },
      "execution_count": null,
      "outputs": []
    },
    {
      "cell_type": "code",
      "source": [
        "Filtro_index14[\"frequency\"].plot(kind='pie', figsize=(10,5), shadow=True, autopct=\"%0.1f %%\")"
      ],
      "metadata": {
        "id": "ngxkCg3AkglO"
      },
      "execution_count": null,
      "outputs": []
    },
    {
      "cell_type": "markdown",
      "source": [
        "**Variable 16**"
      ],
      "metadata": {
        "id": "zdHQy_hWdHaB"
      }
    },
    {
      "cell_type": "code",
      "source": [
        "table15 = freq_tbl(Micro_Retailer['60_services'])\n",
        "Filtro15 = table15[table15['frequency'] > 1]\n",
        "Filtro_index15 = Filtro15.set_index('60_services')\n",
        "Filtro_index15"
      ],
      "metadata": {
        "id": "xafN5sE0jsYk"
      },
      "execution_count": null,
      "outputs": []
    },
    {
      "cell_type": "code",
      "source": [
        "Filtro_index15[\"frequency\"].plot(kind='pie', figsize=(10,5), shadow=True, autopct=\"%0.1f %%\")"
      ],
      "metadata": {
        "id": "o_K7O_fRkg-9"
      },
      "execution_count": null,
      "outputs": []
    },
    {
      "cell_type": "markdown",
      "source": [
        "**Variable 17**"
      ],
      "metadata": {
        "id": "1v7yljoOdIY4"
      }
    },
    {
      "cell_type": "code",
      "source": [
        "table16 = freq_tbl(Micro_Retailer['277_payment_method_suppliers'])\n",
        "Filtro16 = table16[table16['frequency'] > 1]\n",
        "Filtro_index16 = Filtro16.set_index('277_payment_method_suppliers')\n",
        "Filtro_index16"
      ],
      "metadata": {
        "id": "SpyEur9Gjs32"
      },
      "execution_count": null,
      "outputs": []
    },
    {
      "cell_type": "code",
      "source": [
        "Filtro_index16[\"frequency\"].plot(kind='pie', figsize=(10,5), shadow=True, autopct=\"%0.1f %%\")"
      ],
      "metadata": {
        "id": "H5Ngy9KYkhdr"
      },
      "execution_count": null,
      "outputs": []
    },
    {
      "cell_type": "markdown",
      "source": [
        "**Variable 18**"
      ],
      "metadata": {
        "id": "uQmm-IrQdJb2"
      }
    },
    {
      "cell_type": "code",
      "source": [
        "table17 = freq_tbl(Micro_Retailer['56_procurement_changes_pandemic'])\n",
        "Filtro17 = table17[table17['frequency'] > 1]\n",
        "Filtro_index17 = Filtro17.set_index('56_procurement_changes_pandemic')\n",
        "Filtro_index17"
      ],
      "metadata": {
        "id": "i3Id69Vzjta8"
      },
      "execution_count": null,
      "outputs": []
    },
    {
      "cell_type": "code",
      "source": [
        "Filtro_index17[\"frequency\"].plot(kind='pie', figsize=(10,5), shadow=True, autopct=\"%0.1f %%\")"
      ],
      "metadata": {
        "id": "2leofMfJkhzc"
      },
      "execution_count": null,
      "outputs": []
    },
    {
      "cell_type": "markdown",
      "source": [
        "**Variable 19**"
      ],
      "metadata": {
        "id": "Vo08e-cndKzT"
      }
    },
    {
      "cell_type": "code",
      "source": [
        "table18 = freq_tbl(Micro_Retailer['279_changes_procurement_pandemic'])\n",
        "Filtro18 = table18[table18['frequency'] > 1]\n",
        "Filtro_index18 = Filtro18.set_index('279_changes_procurement_pandemic')\n",
        "Filtro_index18"
      ],
      "metadata": {
        "id": "c7OE3ZQ7jttc"
      },
      "execution_count": null,
      "outputs": []
    },
    {
      "cell_type": "code",
      "source": [
        "Filtro_index18[\"frequency\"].plot(kind='pie', figsize=(10,5), shadow=True, autopct=\"%0.1f %%\")"
      ],
      "metadata": {
        "id": "0uIf6b3dkiFp"
      },
      "execution_count": null,
      "outputs": []
    },
    {
      "cell_type": "markdown",
      "source": [
        "**Variable 20**"
      ],
      "metadata": {
        "id": "ZwEsdKXjdL0c"
      }
    },
    {
      "cell_type": "code",
      "source": [
        "table19 = freq_tbl(Micro_Retailer['157_frequency_organize_shelves'])\n",
        "Filtro19 = table19[table19['frequency'] > 1]\n",
        "Filtro_index19 = Filtro19.set_index('157_frequency_organize_shelves')\n",
        "Filtro_index19"
      ],
      "metadata": {
        "id": "qS1w243bjt7S"
      },
      "execution_count": null,
      "outputs": []
    },
    {
      "cell_type": "code",
      "source": [
        "Filtro_index19[\"frequency\"].plot(kind='pie', figsize=(10,5), shadow=True, autopct=\"%0.1f %%\")"
      ],
      "metadata": {
        "id": "NrJzObFOkikP",
        "colab": {
          "base_uri": "https://localhost:8080/",
          "height": 439
        },
        "outputId": "f3df06e1-9e19-4d03-ec02-1b566f244162"
      },
      "execution_count": 36,
      "outputs": [
        {
          "output_type": "execute_result",
          "data": {
            "text/plain": [
              "<Axes: ylabel='frequency'>"
            ]
          },
          "metadata": {},
          "execution_count": 36
        },
        {
          "output_type": "display_data",
          "data": {
            "text/plain": [
              "<Figure size 1000x500 with 1 Axes>"
            ],
            "image/png": "[encoded data removed]"
          },
          "metadata": {}
        }
      ]
    }
  ]
}